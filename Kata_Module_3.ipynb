{
 "cells": [
  {
   "cell_type": "markdown",
   "metadata": {},
   "source": [
    "# Ejercicio - Escribir declaraciones if, else, y elif"
   ]
  },
  {
   "cell_type": "markdown",
   "metadata": {},
   "source": [
    "## Problema 1"
   ]
  },
  {
   "cell_type": "code",
   "execution_count": 15,
   "metadata": {},
   "outputs": [
    {
     "name": "stdout",
     "output_type": "stream",
     "text": [
      "Alerta un asteroide se acerca a una velocidad de:  49\n"
     ]
    }
   ],
   "source": [
    "speed = 49 # velocidad del asteroide\n",
    "warning = 25 #(km/s)\n",
    "\n",
    "if speed > warning:\n",
    "    print (\"Alerta un asteroide se acerca a una velocidad de: \", speed)\n",
    "else:\n",
    "    print (\"Usted esta seguro, la velocidad del asteroide es: \", speed)\n"
   ]
  },
  {
   "cell_type": "markdown",
   "metadata": {},
   "source": [
    "## Problema 2"
   ]
  },
  {
   "cell_type": "code",
   "execution_count": 16,
   "metadata": {},
   "outputs": [
    {
     "name": "stdout",
     "output_type": "stream",
     "text": [
      "La velocidad del asteroide es:  19 Km/s NO es posible ver su rastro\n"
     ]
    }
   ],
   "source": [
    "warning = 20 #km/s\n",
    "speed = 19 #km/s\n",
    "\n",
    "if speed > warning:\n",
    "    print (\"Se acerca un asteroide a la velocidad de: \", speed, \"KM/s busca un rayo de luz en el cielo\")\n",
    "elif warning == speed:\n",
    "    print (\"Se acerca un asteroide a la velocidad de: \", speed, \"Km/s busca un rayo de luz en el cielo\")\n",
    "else:\n",
    "    print (\"La velocidad del asteroide es: \",speed, \"Km/s NO es posible ver su rastro\")\n",
    "\n"
   ]
  },
  {
   "cell_type": "markdown",
   "metadata": {},
   "source": [
    "## Problema 3"
   ]
  },
  {
   "cell_type": "code",
   "execution_count": 32,
   "metadata": {},
   "outputs": [
    {
     "name": "stdout",
     "output_type": "stream",
     "text": [
      "Alerta se acerca un asteroide de  5 metros a una velocidad de:  250 Km/s\n"
     ]
    }
   ],
   "source": [
    "#datos asteroide\n",
    "size= 5\n",
    "speed = 250\n",
    "#constantes\n",
    "alerts= 25 # tamaño entre 26 y 999 alerta\n",
    "warning = 25 # velocidades mayores a esto es un alert\n",
    "alert = 20 # velocidad > || = se ve un rayo de luz\n",
    "\n",
    "if size > alerts and speed > warning:\n",
    "    print (\"Alerta maxima se acerca un asteroide de \", size, \"metros a una velocidad de: \", speed, \"Km/s\")\n",
    "elif size > alerts or speed > warning:\n",
    "    print (\"Alerta se acerca un asteroide de \", size, \"metros a una velocidad de: \", speed, \"Km/s\")\n",
    "elif speed >= alert:\n",
    "    print (\"Hay una luz en el cielo\")\n",
    "elif size < alerts:\n",
    "    print (\"No hay rayo de luz\")\n",
    "else:\n",
    "    print(\"Que tengas buen dia ;) \")\n",
    "\n"
   ]
  }
 ],
 "metadata": {
  "interpreter": {
   "hash": "18cc07bb5983560fe4752c4699abec656b1b3fff510cd01d73851768b2ddb620"
  },
  "kernelspec": {
   "display_name": "Python 3.10.2 64-bit",
   "language": "python",
   "name": "python3"
  },
  "language_info": {
   "codemirror_mode": {
    "name": "ipython",
    "version": 3
   },
   "file_extension": ".py",
   "mimetype": "text/x-python",
   "name": "python",
   "nbconvert_exporter": "python",
   "pygments_lexer": "ipython3",
   "version": "3.10.2"
  },
  "orig_nbformat": 4
 },
 "nbformat": 4,
 "nbformat_minor": 2
}
