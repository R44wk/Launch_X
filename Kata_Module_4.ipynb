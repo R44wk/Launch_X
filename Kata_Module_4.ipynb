{
 "cells": [
  {
   "cell_type": "markdown",
   "metadata": {},
   "source": [
    "# Kata Modulo 4"
   ]
  },
  {
   "cell_type": "markdown",
   "metadata": {},
   "source": [
    "## Ejercicio 1 Transformar Cadenas"
   ]
  },
  {
   "cell_type": "code",
   "execution_count": 10,
   "metadata": {},
   "outputs": [
    {
     "name": "stdout",
     "output_type": "stream",
     "text": [
      " \n",
      "On average, the Moon moves 4cm away from the Earth every year\n",
      " \n",
      "The highest daylight temperature of the Moon is 127 Celcius\n"
     ]
    }
   ],
   "source": [
    "text = \"\"\"Interesting facts about the Moon. The Moon is Earth's only satellite. \n",
    "There are several interesting facts about the Moon and how it affects life here on Earth. \n",
    "On average, the Moon moves 4cm away from the Earth every year. \n",
    "This yearly drift is not significant enough to cause immediate effects on Earth. \n",
    "The highest daylight temperature of the Moon is 127 C.\"\"\"\n",
    "\n",
    "\n",
    "words = ['average', 'temperature', 'distance']\n",
    "lista = text.split(\".\")\n",
    "\n",
    "for i in lista:\n",
    "    for w in words:\n",
    "        if w in i:\n",
    "            print(i.replace('C', 'Celcius'))\n",
    "            break\n",
    "\n"
   ]
  },
  {
   "cell_type": "markdown",
   "metadata": {},
   "source": [
    "## Ejercicio 2: Formateando Cadenas"
   ]
  },
  {
   "cell_type": "code",
   "execution_count": 8,
   "metadata": {},
   "outputs": [
    {
     "name": "stdout",
     "output_type": "stream",
     "text": [
      " \n",
      "\n",
      "\tDatos gravitatorios de 'Moon'\n",
      "--------------------------------------------------\n",
      "Planeta: Earth\n",
      "Gravedad en Moon: 1.620 m/s2\n",
      "\n"
     ]
    }
   ],
   "source": [
    "name = \"Moon\"\n",
    "gravity = 0.00162 # in kms\n",
    "planet = \"Earth\"\n",
    "\n",
    "template = \"\"\" \n",
    "\\n\\tDatos gravitatorios de \\'{1}\\'\n",
    "{3}\n",
    "Planeta: {0}\n",
    "Gravedad en {1}: {2:.3f} m/s2\n",
    "\"\"\".format(planet,name,gravity*1000,'-'*50)\n",
    "print (template)\n"
   ]
  }
 ],
 "metadata": {
  "interpreter": {
   "hash": "18cc07bb5983560fe4752c4699abec656b1b3fff510cd01d73851768b2ddb620"
  },
  "kernelspec": {
   "display_name": "Python 3.10.2 64-bit",
   "language": "python",
   "name": "python3"
  },
  "language_info": {
   "codemirror_mode": {
    "name": "ipython",
    "version": 3
   },
   "file_extension": ".py",
   "mimetype": "text/x-python",
   "name": "python",
   "nbconvert_exporter": "python",
   "pygments_lexer": "ipython3",
   "version": "3.10.2"
  },
  "orig_nbformat": 4
 },
 "nbformat": 4,
 "nbformat_minor": 2
}
